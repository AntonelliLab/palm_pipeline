{
 "cells": [
  {
   "cell_type": "markdown",
   "metadata": {},
   "source": [
    "# Phasing allele sequences"
   ]
  },
  {
   "cell_type": "markdown",
   "metadata": {},
   "source": [
    "After you mapped your reads against the reference library during the reference-based assembly step, you are ready to phase your reads into the two different allele sequences (in case of diploid organisms). This step is simple to execute, since the function only requires the path to the reference-based assembly output and the user-set minimal read depth for generating the consensus sequence:"
   ]
  },
  {
   "cell_type": "code",
   "execution_count": 1,
   "metadata": {
    "collapsed": false
   },
   "outputs": [
    {
     "name": "stdout",
     "output_type": "stream",
     "text": [
      "usage: secapr phase_alleles [-h] --input INPUT --output OUTPUT\n",
      "                            [--min_coverage MIN_COVERAGE]\n",
      "\n",
      "Phase remapped reads form reference-based assembly into two separate alleles.\n",
      "Then produce consensus sequence for each allele.\n",
      "\n",
      "optional arguments:\n",
      "  -h, --help            show this help message and exit\n",
      "  --input INPUT         Call the folder that contains the results of the\n",
      "                        reference based assembly (output of reference_assembly\n",
      "                        function, containing the bam-files).\n",
      "  --output OUTPUT       The output directory where results will be safed.\n",
      "  --min_coverage MIN_COVERAGE\n",
      "                        Set the minimum read coverage. Only positions that are\n",
      "                        covered by this number of reads will be called in the\n",
      "                        consensus sequence, otherwise the program will add an\n",
      "                        ambiguity at this position.\n"
     ]
    }
   ],
   "source": [
    "%%bash\n",
    "source activate secapr_env\n",
    "secapr phase_alleles -h"
   ]
  },
  {
   "cell_type": "markdown",
   "metadata": {},
   "source": [
    "We can run the command simply like this:\n",
    "\n",
    "        secapr phase_alleles --input ../../data/processed/remapped_reads/ --output ../../data/processed/allele_sequences --min_coverage 4"
   ]
  },
  {
   "cell_type": "markdown",
   "metadata": {
    "collapsed": true
   },
   "source": [
    "[Previous page](reference_assembly.ipynb)"
   ]
  },
  {
   "cell_type": "code",
   "execution_count": null,
   "metadata": {
    "collapsed": true
   },
   "outputs": [],
   "source": []
  }
 ],
 "metadata": {
  "kernelspec": {
   "display_name": "Python 3",
   "language": "python",
   "name": "python3"
  },
  "language_info": {
   "codemirror_mode": {
    "name": "ipython",
    "version": 3
   },
   "file_extension": ".py",
   "mimetype": "text/x-python",
   "name": "python",
   "nbconvert_exporter": "python",
   "pygments_lexer": "ipython3",
   "version": "3.6.0"
  }
 },
 "nbformat": 4,
 "nbformat_minor": 2
}
