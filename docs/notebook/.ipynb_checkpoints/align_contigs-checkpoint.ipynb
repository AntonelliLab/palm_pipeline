{
 "cells": [
  {
   "cell_type": "markdown",
   "metadata": {},
   "source": [
    "# Align contigs"
   ]
  },
  {
   "cell_type": "code",
   "execution_count": 2,
   "metadata": {
    "collapsed": false
   },
   "outputs": [
    {
     "name": "stdout",
     "output_type": "stream",
     "text": [
      "usage: secapr align_contigs [-h] --sequences SEQUENCES --output OUTPUT\n",
      "                            [--aligner {muscle,mafft}]\n",
      "                            [--output-format {fasta,nexus,phylip,clustal,emboss,stockholm}]\n",
      "                            [--no-trim] [--window WINDOW]\n",
      "                            [--proportion PROPORTION] [--threshold THRESHOLD]\n",
      "                            [--max-divergence MAX_DIVERGENCE]\n",
      "                            [--min-length MIN_LENGTH] [--ambiguous]\n",
      "                            [--cores CORES]\n",
      "\n",
      "Align and trim records in a monolothic FASTA file containing all loci for all\n",
      "taxa\n",
      "\n",
      "optional arguments:\n",
      "  -h, --help            show this help message and exit\n",
      "  --sequences SEQUENCES\n",
      "                        The fasta file containing the extracted contigs that\n",
      "                        match the target loci\n",
      "  --output OUTPUT       The directory in which to store the resulting\n",
      "                        alignments.\n",
      "  --aligner {muscle,mafft}\n",
      "                        The alignment engine to use.\n",
      "  --output-format {fasta,nexus,phylip,clustal,emboss,stockholm}\n",
      "                        The output alignment format.\n",
      "  --no-trim             Align, but DO NOT trim alignments.\n",
      "  --window WINDOW       Sliding window size for trimming.\n",
      "  --proportion PROPORTION\n",
      "                        The proportion of taxa required to have sequence at\n",
      "                        alignment ends.\n",
      "  --threshold THRESHOLD\n",
      "                        The proportion of residues required across the window\n",
      "                        in proportion of taxa.\n",
      "  --max-divergence MAX_DIVERGENCE\n",
      "                        The max proportion of sequence divergence allowed\n",
      "                        between any row of the alignment and the alignment\n",
      "                        consensus.\n",
      "  --min-length MIN_LENGTH\n",
      "                        The minimum length of alignments to keep.\n",
      "  --ambiguous           Allow reads in alignments containing N-bases.\n",
      "  --cores CORES         Process alignments in parallel using --cores for\n",
      "                        alignment. This is the number of PHYSICAL CPUs.\n"
     ]
    }
   ],
   "source": [
    "%%bash\n",
    "secapr align_contigs -h"
   ]
  },
  {
   "cell_type": "markdown",
   "metadata": {},
   "source": [
    "Let's run the alignment. In the example command below we added the flag `--no-trim`, which avoids the algorithm to cut the alignment at the ends (= full contig sequence length is being preserved) and the flag `--ambiguous`, which allows sequences with ambiguous bases ('N') to be included into the alignments.\n",
    "\n",
    "    secapr align_contigs --sequences ../../data/processed/target_contigs/extracted_target_contigs.fasta --output ../../data/processed/alignments/contig_alignments/ --aligner mafft --output-format fasta --no-trim --ambiguous"
   ]
  },
  {
   "cell_type": "markdown",
   "metadata": {},
   "source": [
    "## Filling in missing sequences in alignments\n",
    "Some applications (such as e.g. BEAST) require the same samples/taxa being present in every alignment. If you review your alignments you may find that many-most loci could not be assembled for all of your samples. Even though this is not the optimal turn-out it is quite normal and you can still proceed using your multilocus dataset. It is okay to have missing sequence data for some samples in the alignments, as long as it is correctly coded. Secapr has a function that adds dummy sequences consisting of ?'s for the missing taxa to your alignments, so that all alignments have the same set of taxa. All you have to do is to provide the path to the folder containign all alignments you want to sync and provide the link to the output folder.\n",
    "\n",
    "    secapr add_missing_sequences --input ../../data/processed/alignments/contig_alignments/ --output ../../data/processed/alignments/contig_alignments_no_missing"
   ]
  },
  {
   "cell_type": "code",
   "execution_count": null,
   "metadata": {
    "collapsed": true
   },
   "outputs": [],
   "source": []
  }
 ],
 "metadata": {
  "kernelspec": {
   "display_name": "Python 3",
   "language": "python",
   "name": "python3"
  },
  "language_info": {
   "codemirror_mode": {
    "name": "ipython",
    "version": 3
   },
   "file_extension": ".py",
   "mimetype": "text/x-python",
   "name": "python",
   "nbconvert_exporter": "python",
   "pygments_lexer": "ipython3",
   "version": "3.6.0"
  }
 },
 "nbformat": 4,
 "nbformat_minor": 2
}
