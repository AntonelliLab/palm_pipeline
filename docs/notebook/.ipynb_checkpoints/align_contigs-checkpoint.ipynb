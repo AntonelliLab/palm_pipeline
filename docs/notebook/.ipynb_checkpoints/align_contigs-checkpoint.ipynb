{
 "cells": [
  {
   "cell_type": "markdown",
   "metadata": {},
   "source": [
    "# Align contigs"
   ]
  },
  {
   "cell_type": "code",
   "execution_count": 2,
   "metadata": {
    "collapsed": false
   },
   "outputs": [
    {
     "name": "stdout",
     "output_type": "stream",
     "text": [
      "usage: secapr align_contigs [-h] --sequences SEQUENCES --output OUTPUT\n",
      "                            [--aligner {muscle,mafft}]\n",
      "                            [--output-format {fasta,nexus,phylip,clustal,emboss,stockholm}]\n",
      "                            [--no-trim] [--window WINDOW]\n",
      "                            [--proportion PROPORTION] [--threshold THRESHOLD]\n",
      "                            [--max-divergence MAX_DIVERGENCE]\n",
      "                            [--min-length MIN_LENGTH] [--ambiguous]\n",
      "                            [--cores CORES]\n",
      "\n",
      "Align and trim records in a monolothic FASTA file containing all loci for all\n",
      "taxa\n",
      "\n",
      "optional arguments:\n",
      "  -h, --help            show this help message and exit\n",
      "  --sequences SEQUENCES\n",
      "                        The fasta file containing the extracted contigs that\n",
      "                        match the target loci\n",
      "  --output OUTPUT       The directory in which to store the resulting\n",
      "                        alignments.\n",
      "  --aligner {muscle,mafft}\n",
      "                        The alignment engine to use.\n",
      "  --output-format {fasta,nexus,phylip,clustal,emboss,stockholm}\n",
      "                        The output alignment format.\n",
      "  --no-trim             Align, but DO NOT trim alignments.\n",
      "  --window WINDOW       Sliding window size for trimming.\n",
      "  --proportion PROPORTION\n",
      "                        The proportion of taxa required to have sequence at\n",
      "                        alignment ends.\n",
      "  --threshold THRESHOLD\n",
      "                        The proportion of residues required across the window\n",
      "                        in proportion of taxa.\n",
      "  --max-divergence MAX_DIVERGENCE\n",
      "                        The max proportion of sequence divergence allowed\n",
      "                        between any row of the alignment and the alignment\n",
      "                        consensus.\n",
      "  --min-length MIN_LENGTH\n",
      "                        The minimum length of alignments to keep.\n",
      "  --ambiguous           Allow reads in alignments containing N-bases.\n",
      "  --cores CORES         Process alignments in parallel using --cores for\n",
      "                        alignment. This is the number of PHYSICAL CPUs.\n"
     ]
    }
   ],
   "source": [
    "%%bash\n",
    "secapr align_contigs -h"
   ]
  },
  {
   "cell_type": "markdown",
   "metadata": {},
   "source": [
    "Let's run the alignment. In the example command below we added the flag `--no-trim`, which avoids the algorithm to cut the alignment at the ends (= full contig sequence length is being preserved) and the flag `--ambiguous`, which allows sequences with ambiguous bases ('N') to be included into the alignments.\n",
    "\n",
    "    secapr align_contigs --sequences ../../data/processed/target_contigs/extracted_target_contigs.fasta --output ../../data/processed/alignments/contig_alignments/ --aligner mafft --output-format fasta --no-trim --ambiguous"
   ]
  },
  {
   "cell_type": "code",
   "execution_count": null,
   "metadata": {
    "collapsed": true
   },
   "outputs": [],
   "source": []
  }
 ],
 "metadata": {
  "kernelspec": {
   "display_name": "Python 3",
   "language": "python",
   "name": "python3"
  },
  "language_info": {
   "codemirror_mode": {
    "name": "ipython",
    "version": 3
   },
   "file_extension": ".py",
   "mimetype": "text/x-python",
   "name": "python",
   "nbconvert_exporter": "python",
   "pygments_lexer": "ipython3",
   "version": "3.6.0"
  }
 },
 "nbformat": 4,
 "nbformat_minor": 2
}
