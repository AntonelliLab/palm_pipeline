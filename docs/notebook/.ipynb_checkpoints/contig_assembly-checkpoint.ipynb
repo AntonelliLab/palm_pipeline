{
 "cells": [
  {
   "cell_type": "markdown",
   "metadata": {
    "collapsed": true
   },
   "source": [
    "# Contig assembly"
   ]
  },
  {
   "cell_type": "markdown",
   "metadata": {
    "collapsed": true
   },
   "source": [
    "After cleaning and trimming the reads in the previous step we are now ready to use the fastq-reads for de-novo contig assembly. In this step the overlap between fastq reads is being used to build long, uninterrupted sequences, among which we hopefully find the target regions that were selected for during sequence capture. In a way a contig can be seen as a consensus of several reads:\n",
    "![alt text](../../images/reads_to_contig.jpg \"Consensus contig\")\n"
   ]
  },
  {
   "cell_type": "markdown",
   "metadata": {},
   "source": [
    "However, the underlying algorithms for building contigs are much more complex than in the simplified image above. In our pipeline you can choose between the assembly programs [ABySS](https://github.com/bcgsc/abyss) and [Trinity](https://github.com/trinityrnaseq/trinityrnaseq/wiki). We tested both assemblers and they both appear to produce very similar results. If you are working with sequence capture data of DNA regions (exons, introns, UCEs, mitochondrial markers, etc.) we recommend you to use ABySS since this assembler was built for assembling DNA sequences. Trinity on the other hand was built for assembling transcriptome (RNA) sequences."
   ]
  },
  {
   "cell_type": "markdown",
   "metadata": {},
   "source": [
    "## Running the assembly\n",
    "For the assembly step we use the `assemble_reads` function of secapr. For an overview of all available flags execute the help function:"
   ]
  },
  {
   "cell_type": "code",
   "execution_count": 2,
   "metadata": {
    "collapsed": false
   },
   "outputs": [
    {
     "name": "stdout",
     "output_type": "stream",
     "text": [
      "usage: secapr assemble_reads [-h] --input INPUT --output OUTPUT\n",
      "                             [--assembler {trinity,abyss}] [--kmer KMER]\n",
      "                             [--contig_length CONTIG_LENGTH] [--single_reads]\n",
      "                             [--cores CORES]\n",
      "\n",
      "Assemble trimmed Illumina read files (fastq)\n",
      "\n",
      "optional arguments:\n",
      "  -h, --help            show this help message and exit\n",
      "  --input INPUT         Call the folder that contains the trimmed reads,\n",
      "                        organized in a separate subfolder for each sample. The\n",
      "                        name of the subfolder has to start with the sample\n",
      "                        name, delimited with an underscore [_]\n",
      "  --output OUTPUT       The output directory where results will be saved\n",
      "  --assembler {trinity,abyss}\n",
      "                        The assembler to use.\n",
      "  --kmer KMER           Set the kmer value\n",
      "  --contig_length CONTIG_LENGTH\n",
      "                        Set the minimum contig length for Trinity assembly.\n",
      "                        Contigs that are shorter than this threshold will be\n",
      "                        discarded.\n",
      "  --single_reads        Use this flag if you additionally want to use single\n",
      "                        reads for the assembly\n",
      "  --cores CORES         For parallel processing you can set the number of\n",
      "                        cores you want to run Trinity on.\n"
     ]
    }
   ],
   "source": [
    "%%bash\n",
    "secapr assemble_reads -h"
   ]
  },
  {
   "cell_type": "markdown",
   "metadata": {},
   "source": [
    "Now we run the assembly with the default options, just like this:\n",
    "\n",
    "\n",
    "    secapr assemble_reads --input ../../data/processed/cleaned_trimmed_reads/ --output ../../data/processed/contigs"
   ]
  },
  {
   "cell_type": "code",
   "execution_count": null,
   "metadata": {
    "collapsed": true
   },
   "outputs": [],
   "source": []
  }
 ],
 "metadata": {
  "kernelspec": {
   "display_name": "Python 3",
   "language": "python",
   "name": "python3"
  },
  "language_info": {
   "codemirror_mode": {
    "name": "ipython",
    "version": 3
   },
   "file_extension": ".py",
   "mimetype": "text/x-python",
   "name": "python",
   "nbconvert_exporter": "python",
   "pygments_lexer": "ipython3",
   "version": "3.6.0"
  }
 },
 "nbformat": 4,
 "nbformat_minor": 2
}
