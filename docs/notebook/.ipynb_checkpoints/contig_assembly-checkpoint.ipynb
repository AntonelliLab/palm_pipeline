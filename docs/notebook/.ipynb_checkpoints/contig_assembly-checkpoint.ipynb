{
 "cells": [
  {
   "cell_type": "markdown",
   "metadata": {
    "collapsed": true
   },
   "source": [
    "# Contig assembly"
   ]
  },
  {
   "cell_type": "markdown",
   "metadata": {
    "collapsed": true
   },
   "source": [
    "After cleaning and trimming the reads in the previous step we are now ready to use the fastq-reads for de-novo contig assembly. In this step the overlap between fastq reads is being used to build long, uninterrupted sequences, among which we hopefully find the target regions that were selected for during sequence capture. In a way a contig can be seen as a consensus of several reads:\n",
    "![alt text](../../images/reads_to_contig.jpg \"Consensus contig\")\n"
   ]
  },
  {
   "cell_type": "markdown",
   "metadata": {},
   "source": [
    "However, the underlying algorithms for building contigs are much more complex than in the simplified image above. In our pipeline you can choose between the assembly programs [ABySS](https://github.com/bcgsc/abyss) and [Trinity](https://github.com/trinityrnaseq/trinityrnaseq/wiki). We tested both assemblers and they both appear to produce very similar results. If you are working with sequence capture data of DNA regions (exons, introns, UCEs, mitochondrial markers, etc.) we recommend you to use ABySS since this assembler was built for assembling DNA sequences. Trinity on the other hand was built for assembling transcriptome (RNA) sequences."
   ]
  },
  {
   "cell_type": "markdown",
   "metadata": {},
   "source": [
    "## Running the assembly\n",
    "For the assembly step we use the `assemble_reads` function of secapr. For an overview of all available flags execute the help function:"
   ]
  },
  {
   "cell_type": "code",
   "execution_count": 5,
   "metadata": {},
   "outputs": [
    {
     "name": "stderr",
     "output_type": "stream",
     "text": [
      "Traceback (most recent call last):\n",
      "  File \"/Users/tobias/anaconda3/envs/secapr_env/bin/secapr\", line 11, in <module>\n",
      "    load_entry_point('secapr', 'console_scripts', 'secapr')()\n",
      "  File \"/Users/tobias/GitHub/seqcap_processor/secapr/__main__.py\", line 42, in main\n",
      "    module = importlib.import_module('.' + command_name, 'secapr')\n",
      "  File \"/Users/tobias/anaconda3/envs/secapr_env/lib/python2.7/importlib/__init__.py\", line 37, in import_module\n",
      "    __import__(name)\n",
      "  File \"/Users/tobias/GitHub/seqcap_processor/secapr/quality_check.py\", line 17, in <module>\n",
      "    import matplotlib.pyplot as plt\n",
      "  File \"/Users/tobias/anaconda3/envs/secapr_env/lib/python2.7/site-packages/matplotlib/pyplot.py\", line 113, in <module>\n",
      "    _backend_mod, new_figure_manager, draw_if_interactive, _show = pylab_setup()\n",
      "  File \"/Users/tobias/anaconda3/envs/secapr_env/lib/python2.7/site-packages/matplotlib/backends/__init__.py\", line 60, in pylab_setup\n",
      "    [backend_name], 0)\n",
      "ImportError: No module named ipykernel.pylab.backend_inline\n"
     ]
    }
   ],
   "source": [
    "%%bash\n",
    "source activate secapr_env\n",
    "secapr assemble_reads -h"
   ]
  },
  {
   "cell_type": "markdown",
   "metadata": {},
   "source": [
    "Now we run the assembly with the default options, just like this:\n",
    "\n",
    "\n",
    "    secapr assemble_reads --input ../../data/processed/cleaned_trimmed_reads/ --output ../../data/processed/contigs"
   ]
  },
  {
   "cell_type": "markdown",
   "metadata": {},
   "source": [
    "The assembly step is very time intensive and may take several hours or even days, depending on the number of samples and the size of the files. For our example dataset the assembly took approximately 45 min per sample. The assembly step produces a fasta file for each sample, containing all assembled contig sequences. There are commonly 1000s or even 100,000s of sequences in the contig fasta file, many of which represent random short sequences that were present during sequencing. You may also find some very long sequences in the sample file which may represent the mitochondrial genome or in some cases big parts of the chloroplast genome (in plants). In the case of sequence capture datasets, we are mostly interested in the contigs that represent our enriched target sequences. We will show you in the next step how these can be easily extracted from the contig file by using a reference fasta file containing templates for the sequences of interest (often the file used to design the RNA baits). Go to the manual for [extracting target contigs](extract_contigs.ipynb)."
   ]
  },
  {
   "cell_type": "markdown",
   "metadata": {},
   "source": [
    "[Previous page](cleaning_trimming.ipynb) | [Next page](extract_contigs.ipynb)"
   ]
  }
 ],
 "metadata": {
  "kernelspec": {
   "display_name": "Python 3",
   "language": "python",
   "name": "python3"
  },
  "language_info": {
   "codemirror_mode": {
    "name": "ipython",
    "version": 3
   },
   "file_extension": ".py",
   "mimetype": "text/x-python",
   "name": "python",
   "nbconvert_exporter": "python",
   "pygments_lexer": "ipython3",
   "version": "3.6.4"
  }
 },
 "nbformat": 4,
 "nbformat_minor": 2
}
