{
 "cells": [
  {
   "cell_type": "markdown",
   "metadata": {},
   "source": [
    "# Cleaning and trimming of fastq files\n",
    "Your fastq reads that you received from the sequencing facility will most likely contain all raw reads, including low quality reads. Further, most if not all reads will probably contain parts of the Illumina adapter sequences, which are attached on both ends of the read. In order to prepare the reads for further steps, we need to make sure that we properly clean them and that we clip off all remaining adapter contaminations.\n",
    "\n",
    "**Note: Please check: Is secapr_env activated??**\n",
    "\n",
    "The program for cleaning and trimming can be called as follows:"
   ]
  },
  {
   "cell_type": "code",
   "execution_count": 4,
   "metadata": {
    "collapsed": false,
    "scrolled": true
   },
   "outputs": [
    {
     "name": "stdout",
     "output_type": "stream",
     "text": [
      "usage: secapr clean_reads [-h] --input INPUT --config CONFIG --output OUTPUT\n",
      "                          [--read_min READ_MIN] [--index {single,double}]\n",
      "                          [--seedMismatches SEEDMISMATCHES]\n",
      "                          [--palindromeClipThreshold PALINDROMECLIPTHRESHOLD]\n",
      "                          [--simpleClipThreshold SIMPLECLIPTHRESHOLD]\n",
      "                          [--windowSize WINDOWSIZE]\n",
      "                          [--requiredQuality REQUIREDQUALITY]\n",
      "                          [--leadingQuality LEADINGQUALITY]\n",
      "                          [--trailingQuality TRAILINGQUALITY]\n",
      "                          [--cropToLength CROPTOLENGTH] [--headCrop HEADCROP]\n",
      "                          [--minLength MINLENGTH]\n",
      "\n",
      "Clean and trim raw Illumina read files\n",
      "\n",
      "optional arguments:\n",
      "  -h, --help            show this help message and exit\n",
      "  --input INPUT         The directory containing the unzipped .fastq or .fq\n",
      "                        files (raw read files)\n",
      "  --config CONFIG       A configuration file containing the adapter\n",
      "                        information and the sample names\n",
      "  --output OUTPUT       The output directory where results will be saved\n",
      "  --read_min READ_MIN   Set the minimum read count threshold. Any read file\n",
      "                        containing fewer reads than this minimum threshold\n",
      "                        will not be processed further. Default: 200000\n",
      "  --index {single,double}\n",
      "                        Specify if single- or double-indexed adapters were\n",
      "                        used for the library preparation (essential\n",
      "                        information in order to interpret the control-file\n",
      "                        correctly).\n",
      "  --seedMismatches SEEDMISMATCHES\n",
      "                        Specifies the maximum mismatch count which will still\n",
      "                        allow a full match to be performed. For more\n",
      "                        information see trimmoatic tutorial. Default: 2\n",
      "  --palindromeClipThreshold PALINDROMECLIPTHRESHOLD\n",
      "                        Specifies how accurate the match between the two\n",
      "                        \"adapter ligated\" reads must be for PE palindrome read\n",
      "                        alignment. Default: 30\n",
      "  --simpleClipThreshold SIMPLECLIPTHRESHOLD\n",
      "                        Specifies how accurate the match between any adapter\n",
      "                        etc. sequence must be against a read. For more\n",
      "                        information see trimmoatic tutorial. Default: 10\n",
      "  --windowSize WINDOWSIZE\n",
      "                        Specifies the number of bases to average across. For\n",
      "                        more information see trimmoatic tutorial. Default: 4\n",
      "  --requiredQuality REQUIREDQUALITY\n",
      "                        Specifies the average quality required. For more\n",
      "                        information see trimmoatic tutorial. Default: 15\n",
      "  --leadingQuality LEADINGQUALITY\n",
      "                        Specifies the minimum quality required to keep a base\n",
      "                        at the beginning of the read. For more information see\n",
      "                        trimmoatic tutorial. Default: 20\n",
      "  --trailingQuality TRAILINGQUALITY\n",
      "                        Specifies the minimum quality required to keep a base\n",
      "                        at the end of a read. For more information see\n",
      "                        trimmoatic tutorial. Default: 20\n",
      "  --cropToLength CROPTOLENGTH\n",
      "                        The number of bases to keep, from the start of the\n",
      "                        read. Everything exceeding this length will be removed\n",
      "                        from the end of the read. For more information see\n",
      "                        trimmoatic tutorial. Default: 250\n",
      "  --headCrop HEADCROP   The number of bases to remove from the start of the\n",
      "                        read. For more information see trimmoatic tutorial.\n",
      "                        Default: 0\n",
      "  --minLength MINLENGTH\n",
      "                        Specifies the minimum length of reads to be kept. For\n",
      "                        more information see trimmoatic tutorial. Default: 40\n"
     ]
    }
   ],
   "source": [
    "%%bash\n",
    "source activate secapr_env\n",
    "secapr clean_reads -h"
   ]
  },
  {
   "cell_type": "markdown",
   "metadata": {},
   "source": [
    "The script requires a config file which should contain the adapter and barcode information. You see an example of the config file below. The file consists of 3 sections:\n",
    "- [adapters]\n",
    "\n",
    "Here you provide the adapter sequences that were used during library preparation in the lab. Check which Illumina kit was used and find the corresponding sequences either in the Illumina manual or on their [webpage](https://support.illumina.com/content/dam/illumina-support/documents/documentation/chemistry_documentation/experiment-design/illumina-adapter-sequences_1000000002694-01.pdf). Add a * in the spot where the sample specific barcode will be inserted.\n",
    "- [names]\n",
    "\n",
    "Here you provide a unique string for each sample, as it occurs in the filename (this is how the program recognizes which files to process). You usually have two file for each sample (forward and backward reads). Make sure that this unique identifier occurs in both of those files. Add ':_' after each identifier (don't ask why).\n",
    "- [barcodes]\n",
    "\n",
    "Here you specify the sample specific barcode for each sample. First you state which adapter (i7 or i5) the barcode will be inserted in, followed by a dash (-) and the name of the sample, as stated in the section [names].\n",
    "\n",
    "\n",
    ".\n",
    "\n",
    "_Note: If you are working with double indexed adapters (both adapters containing barcodes), don't forget to add the * in the position where the barcode is inserted, also for the i5 adapter. In that case make sure in the [barcodes]-section to assign both barcodes for each sample to the correct adapter, e.g.:_\n",
    "\n",
    "_i7-sampleID:AAACCC_\n",
    "\n",
    "_i5-sampleID:AATTCC_"
   ]
  },
  {
   "cell_type": "code",
   "execution_count": 16,
   "metadata": {
    "collapsed": false
   },
   "outputs": [
    {
     "name": "stdout",
     "output_type": "stream",
     "text": [
      "[adapters]\n",
      "i7:GATCGGAAGAGCACACGTCTGAACTCCAGTCAC*ATCTCGTATGCCGTCTTCTGCTTG\n",
      "i5:AATGATACGGCGACCACCGAGATCTACACTCTTTCCCTACACGACGCTCTTCCGATCT\n",
      "\n",
      "[names]\n",
      "1061:_\n",
      "1063:_\n",
      "1064:_\n",
      "1065:_\n",
      "1068:_\n",
      "1070:_\n",
      "1073:_\n",
      "1074:_\n",
      "1079:_\n",
      "1080:_\n",
      "1082:_\n",
      "1083:_\n",
      "1085:_\n",
      "1086:_\n",
      "1087:_\n",
      "1140:_\n",
      "1164:_\n",
      "1165:_\n",
      "1166:_\n",
      "1167:_\n",
      "\n",
      "[barcodes]\n",
      "i7-1061:AGTCAA\n",
      "i7-1063:ATGTCA\n",
      "i7-1064:CCGTCC\n",
      "i7-1065:GTAGAG\n",
      "i7-1068:GTGGCC\n",
      "i7-1070:CGTACG\n",
      "i7-1073:ACTGAT\n",
      "i7-1074:ATGAGC\n",
      "i7-1079:CACGAT\n",
      "i7-1080:CACTCA\n",
      "i7-1082:CATGGC\n",
      "i7-1083:CATTTT\n",
      "i7-1085:CGGAAT\n",
      "i7-1086:CTAGCT\n",
      "i7-1087:CTATAC\n",
      "i7-1140:TATAAT\n",
      "i7-1164:GTGGCC\n",
      "i7-1165:GTTTCG\n",
      "i7-1166:CGTACG\n",
      "i7-1167:GAGTGG\n"
     ]
    }
   ],
   "source": [
    "%%bash\n",
    "cat ../../data/raw/adapter_info.txt"
   ]
  },
  {
   "cell_type": "markdown",
   "metadata": {},
   "source": [
    "Now you are good to go. Run the script as in this example command:\n",
    "\n",
    "    secapr clean_reads --input data/raw/fastq/ --config data/raw/adapter_info.txt --output data/processed/cleaned_trimmed_reads_default --index single"
   ]
  },
  {
   "cell_type": "markdown",
   "metadata": {},
   "source": [
    "## Checking results\n",
    "Now we want to check if the cleaning and trimming was successful. For this purpose there exists a perfect tool called 'fastqc' which returns reports for every fastq file, summarizing many different parameters concerning read quality.\n",
    "\n",
    "**Note: Please check: Is secapr_env activated??**"
   ]
  },
  {
   "cell_type": "markdown",
   "metadata": {},
   "source": [
    "Prepare a file that contains the file paths of all cleaned fastq-files of interest (you can do it manually or use the following commands, after inserting the correct path to your output folder in the bash for-loop [replace `../../data/processed/cleaned_trimmed_reads/*/` with the path to your folder containing the cleaned reads]):"
   ]
  },
  {
   "cell_type": "markdown",
   "metadata": {
    "collapsed": false
   },
   "source": [
    "    for dir in ../../data/processed/cleaned_trimmed_reads_default/*/*READ1.fastq; do echo $dir; done > ../../data/processed/fastq_file_list.txt\n",
    "    \n",
    "    for dir in ../../data/processed/cleaned_trimmed_reads_default/*/*READ2.fastq; do echo $dir; done >> ../../data/processed/fastq_file_list.txt"
   ]
  },
  {
   "cell_type": "markdown",
   "metadata": {},
   "source": [
    "After successfully running these for-loops, the resulting file `fastq_file_list.txt` should contain the path to all samples that you want to quality check:"
   ]
  },
  {
   "cell_type": "code",
   "execution_count": 1,
   "metadata": {
    "collapsed": false,
    "scrolled": true
   },
   "outputs": [
    {
     "name": "stdout",
     "output_type": "stream",
     "text": [
      "../../data/processed/cleaned_trimmed_reads/1061_clean/1061_clean-READ1.fastq\n",
      "../../data/processed/cleaned_trimmed_reads/1063_clean/1063_clean-READ1.fastq\n",
      "../../data/processed/cleaned_trimmed_reads/1064_clean/1064_clean-READ1.fastq\n",
      "../../data/processed/cleaned_trimmed_reads/1065_clean/1065_clean-READ1.fastq\n",
      "../../data/processed/cleaned_trimmed_reads/1068_clean/1068_clean-READ1.fastq\n",
      "../../data/processed/cleaned_trimmed_reads/1070_clean/1070_clean-READ1.fastq\n",
      "../../data/processed/cleaned_trimmed_reads/1073_clean/1073_clean-READ1.fastq\n",
      "../../data/processed/cleaned_trimmed_reads/1074_clean/1074_clean-READ1.fastq\n",
      "../../data/processed/cleaned_trimmed_reads/1079_clean/1079_clean-READ1.fastq\n",
      "../../data/processed/cleaned_trimmed_reads/1080_clean/1080_clean-READ1.fastq\n"
     ]
    }
   ],
   "source": [
    "%%bash\n",
    "head ../../data/processed/fastq_file_list.txt"
   ]
  },
  {
   "cell_type": "markdown",
   "metadata": {},
   "source": [
    "Now run `fastqc` in order to produce a quality check for all these samples. Make sure to create the output directory manually before running the command (otherwise `fastqc` will return an error). "
   ]
  },
  {
   "cell_type": "markdown",
   "metadata": {
    "collapsed": false
   },
   "source": [
    "    mkdir ../../data/processed/fastqc_results\n",
    "    fastqc -o ../../data/processed/fastqc_results -f fastq $(cat ../../data/processed/fastq_file_list.txt)"
   ]
  },
  {
   "cell_type": "markdown",
   "metadata": {},
   "source": [
    "You should spend some time going through the quality reports and make sure all samples passed all tests. Most likely there will be some warnings or even some failed tests for some samples. In that case go back to the `clean_reads` function and set the parameters differently, in order to address the problematic test results. Preferably all samples should pass all tests (there may still be some warnings) before you continue to the next step.\n",
    "\n",
    "We provide an R-script which gives a graphical overview over the test results of all samples. This makes it easier to see if all samples passed the tests (rather than having to go open each individual report):"
   ]
  },
  {
   "cell_type": "markdown",
   "metadata": {},
   "source": [
    "    Rscript ../../src/fastqc_visualization.r -i ../../data/processed/fastqc_results_default/ -o ../../data/processed/fastqc_results_default/summary_all_samples_default.pdf"
   ]
  },
  {
   "cell_type": "code",
   "execution_count": 122,
   "metadata": {
    "collapsed": false,
    "scrolled": true
   },
   "outputs": [
    {
     "data": {
      "text/html": [
       "<img style='width: 490px; margin: 0px; float: left; border: 1px solid black;' src='../../data/processed/fastqc_results_default/summary_all_samples_default1.png' /><img style='width: 490px; margin: 0px; float: left; border: 1px solid black;' src='../../data/processed/fastqc_results_default/summary_all_samples_default2.png' />"
      ],
      "text/plain": [
       "<IPython.core.display.HTML object>"
      ]
     },
     "metadata": {},
     "output_type": "display_data"
    }
   ],
   "source": [
    "from IPython.display import Image, display, HTML\n",
    "from glob import glob\n",
    "imagesList=''.join( [\"<img style='width: 490px; margin: 0px; float: left; border: 1px solid black;' src='%s' />\" % str(s) \n",
    "                 for s in sorted(glob('../../data/processed/fastqc_results_default/summary_all_samples_default*.png')) ])\n",
    "display(HTML(imagesList))"
   ]
  },
  {
   "cell_type": "markdown",
   "metadata": {},
   "source": [
    "As you can see there is a lot of room for improvement. Running the clean_reads program with the default options leaves many samples failing some of the tests. After reviewing the intial quality reports and after trying a bunch of different flags and values, we ended up with this command for the example data. You can see how the overall quality of the data improved (compare r-plots):\n",
    "\n",
    "    secapr clean_reads --input data/raw/fastq/ --config data/raw/adapter_info.txt --output data/processed/cleaned_trimmed_reads --index single --simpleClipThreshold 5 --palindromeClipThreshold 20 --seedMismatches 5 --headCrop 10"
   ]
  },
  {
   "cell_type": "code",
   "execution_count": 123,
   "metadata": {
    "collapsed": false
   },
   "outputs": [
    {
     "data": {
      "text/html": [
       "<img style='width: 490px; margin: 0px; float: left; border: 1px solid black;' src='../../data/processed/fastqc_results/summary_all_samples1.png' /><img style='width: 490px; margin: 0px; float: left; border: 1px solid black;' src='../../data/processed/fastqc_results/summary_all_samples2.png' />"
      ],
      "text/plain": [
       "<IPython.core.display.HTML object>"
      ]
     },
     "metadata": {},
     "output_type": "display_data"
    }
   ],
   "source": [
    "from IPython.display import Image, display, HTML\n",
    "from glob import glob\n",
    "imagesList=''.join( [\"<img style='width: 490px; margin: 0px; float: left; border: 1px solid black;' src='%s' />\" % str(s) \n",
    "                 for s in sorted(glob('../../data/processed/fastqc_results/summary_all_samples*.png')) ])\n",
    "display(HTML(imagesList))"
   ]
  },
  {
   "cell_type": "markdown",
   "metadata": {},
   "source": [
    "Once all samples are properly cleaned, move on to the next step, the [contig assembly](./assembly.ipynb)"
   ]
  },
  {
   "cell_type": "code",
   "execution_count": null,
   "metadata": {
    "collapsed": true
   },
   "outputs": [],
   "source": []
  }
 ],
 "metadata": {
  "kernelspec": {
   "display_name": "Python 3",
   "language": "python",
   "name": "python3"
  },
  "language_info": {
   "codemirror_mode": {
    "name": "ipython",
    "version": 3
   },
   "file_extension": ".py",
   "mimetype": "text/x-python",
   "name": "python",
   "nbconvert_exporter": "python",
   "pygments_lexer": "ipython3",
   "version": "3.6.0"
  }
 },
 "nbformat": 4,
 "nbformat_minor": 2
}
