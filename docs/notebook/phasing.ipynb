{
 "cells": [
  {
   "cell_type": "markdown",
   "metadata": {},
   "source": [
    "# Phasing allele sequences"
   ]
  },
  {
   "cell_type": "markdown",
   "metadata": {},
   "source": [
    "After you mapped your reads against the reference library during the reference-based assembly step, you are ready to phase your reads into the two different allele sequences (in case of diploid organisms). This step is simple to execute, since the function only requires the path to the reference-based assembly output and the user-set minimal read depth for generating the consensus sequence:"
   ]
  },
  {
   "cell_type": "code",
   "execution_count": 1,
   "metadata": {},
   "outputs": [
    {
     "name": "stdout",
     "output_type": "stream",
     "text": [
      "usage: secapr phase_alleles [-h] --input INPUT --output OUTPUT\n",
      "                            [--min_coverage MIN_COVERAGE]\n",
      "\n",
      "Phase remapped reads form reference-based assembly into two separate alleles.\n",
      "Then produce consensus sequence for each allele.\n",
      "\n",
      "optional arguments:\n",
      "  -h, --help            show this help message and exit\n",
      "  --input INPUT         Call the folder that contains the results of the\n",
      "                        reference based assembly (output of reference_assembly\n",
      "                        function, containing the bam-files).\n",
      "  --output OUTPUT       The output directory where results will be safed.\n",
      "  --min_coverage MIN_COVERAGE\n",
      "                        Set the minimum read coverage. Only positions that are\n",
      "                        covered by this number of reads will be called in the\n",
      "                        consensus sequence, otherwise the program will add an\n",
      "                        ambiguity at this position.\n"
     ]
    }
   ],
   "source": [
    "%%bash\n",
    "source activate secapr_env\n",
    "secapr phase_alleles -h"
   ]
  },
  {
   "cell_type": "markdown",
   "metadata": {},
   "source": [
    "We can run the command simply like this:\n",
    "\n",
    "        secapr phase_alleles --input ../../data/processed/remapped_reads/ --output ../../data/processed/allele_sequences --min_coverage 3\n",
    "        \n",
    "We can also choose to phase only the [selected loci](locus_selection.ipynb) that were produced with the `secapr locus_selection` function:\n",
    "\n",
    "    secapr phase_alleles --input ../../data/processed/selected_loci --output ../../data/processed/allele_sequences_selected_loci --min_coverage 3"
   ]
  },
  {
   "cell_type": "markdown",
   "metadata": {},
   "source": [
    "## Producing allele alignments\n",
    "Now all we need to do is to run the `secapr align_sequences` function in order to align the extracted allele sequences of all samples for each locus. We can run the command like this:\n",
    "\n",
    "    secapr align_sequences --sequences ../../data/processed/allele_sequences/joined_allele_fastas.fasta --output ../../data/processed/alignments/allele_alignments --aligner mafft --output-format fasta --no-trim --ambiguous\n",
    "    \n",
    "Or like this if we want to instead build allele alignments from only the selected loci:\n",
    "\n",
    "    secapr align_sequences --sequences ../../data/processed/allele_sequences_selected_loci/joined_allele_fastas.fasta --output ../../data/processed/alignments/selected_loci_allele_alignments --aligner mafft --output-format fasta --no-trim --ambiguous\n",
    "    \n",
    "### Adding missing sequences\n",
    "Before using these alignments for phylogenetic analyses it usually is a good idea to make sure that all taxa contain the same number of sequences. As of right now, some alignments may be missing one of the two allele sequences for some samples, because not enough reads were present that were supporting both haplotypes (controlled by the `--min_coverage` flag int he `phase_alleles` command. In order to add missing sequences as dummy sequences containing n's we can use the `secapr add_missing_sequences` function:\n",
    "\n",
    "    secapr add_missing_sequences --input ../../data/processed/alignments/selected_loci_allele_alignments/ --output ../../data/processed/alignments/selected_loci_allele_alignments_complete\n",
    "    \n",
    "### Phylogeny estimation with phased allele alignments\n",
    "We provide a tutorial of how to use the generated allele sequence alignments for [phylogeny estimation under the Multispecies Coalescent (MSC) model](phylogeny_msc.ipynb)."
   ]
  },
  {
   "cell_type": "markdown",
   "metadata": {
    "collapsed": true
   },
   "source": [
    "[Previous page](locus_selection.ipynb) | [Next page](phylogeny_msc.ipynb)"
   ]
  }
 ],
 "metadata": {
  "kernelspec": {
   "display_name": "Python 3",
   "language": "python",
   "name": "python3"
  },
  "language_info": {
   "codemirror_mode": {
    "name": "ipython",
    "version": 3
   },
   "file_extension": ".py",
   "mimetype": "text/x-python",
   "name": "python",
   "nbconvert_exporter": "python",
   "pygments_lexer": "ipython3",
   "version": "3.6.4"
  }
 },
 "nbformat": 4,
 "nbformat_minor": 2
}
