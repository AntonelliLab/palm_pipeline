{
 "cells": [
  {
   "cell_type": "markdown",
   "metadata": {
    "collapsed": true
   },
   "source": [
    "# Extracting target contigs"
   ]
  },
  {
   "cell_type": "markdown",
   "metadata": {
    "collapsed": true
   },
   "source": [
    "In order to extract the contigs representing your target sequences (the sequences that were being captured during the sequence capture process), you need to provide a fasta file containing the reference sequences for all loci of interest. Ususally all sequences of interest should be present in the file that was used to design the RNA baits for sequence capture. If you are using some standarad RNA bait library that was not specifically designed for your organism group/project (e.g. [Ultraconserved Elements - UCEs](http://ultraconserved.org/)), you can usually find the reference library on the webpage of the developer or in the respective publication. If all else fails, you can try to extract sequences of the same loci that you captured, for organisms that are closely related to your taxa, e.g. from [NCBI GenBank](https://www.ncbi.nlm.nih.gov/genbank/)."
   ]
  },
  {
   "cell_type": "markdown",
   "metadata": {},
   "source": [
    "The reference library should be in simple fasta format, containign one sequence per locus of interest. Here is an example of a reference library that was used in our example dataset of palms, extracted from [Heyduk et al., 2016](https://oup.silverchair-cdn.com/oup/backfile/Content_public/Journal/biolinnean/117/1/10.1111_bij.12551/1/bij12551.pdf?Expires=1501614586&Signature=I4wDg~SKpYmSEE9cEE0rZw2XLo9zcqFhPoijZ1Qeq78nX5XcnXSPwCw~9j4QxKH16BjKfkleb~wOF5RiKdTr0PmKkUYraQfeb7mD6jPBr5RgNlDcjsLV3ezZ1VyoT-4MZ9HxnYNPE0poXJcUXor1B5YYSYGBxxW1Q~zWYqzdos2VhoCP9eK7phRocpR~hhvbJx4aJDxAQdPleOpNPpknkkmoX~dTyHr2B8C7~t5v7f4DiZVEnOz0VQ9JbPw02iY13n67Qq2VfLA3HPYkui-PGfLKY0yCFKRp2xFrnjeIBV9TKZ~vuJngcua-L6URZ8cIdwzvo9GFAVDYxWUs0DywHw__&Key-Pair-Id=APKAIUCZBIA4LVPAVW3Q):\n",
    "\n",
    "**Citation:** *Heyduk, K., Trapnell, D. W., Barrett, C. F., & Leebens-Mack, J. (2016). Phylogenomic analyses of species relationships in the genus Sabal (Arecaceae) using targeted sequence capture. Biological Journal of the Linnean Society, 117, 106–120.*"
   ]
  },
  {
   "cell_type": "code",
   "execution_count": 3,
   "metadata": {},
   "outputs": [
    {
     "name": "stdout",
     "output_type": "stream",
     "text": [
      ">Elaeis_1007_0\n",
      "TGGGAGTCGCCGGGCATTTCTGGGATCTCCTCAAGCCCTACGCCCGGAACGAGGGCGTCGACTTCCTCCGGAACAAGCGCGTCGCCATCGACCTCTCCTTCTGGATCGTCCAGCACGGGGCTGCCATCCGCAACAAAACCTCTCGCCTCCGCAATCCCCACATCCGCACCACCTTTTTCCGTACTGTCGCCTTGTTT\n",
      ">Elaeis_1007_1\n",
      "TCGAAGATGGGGGCGTTCCCGGTGTTCGTCGTTGACGGCGAGCCATCGCCGTTGAAGACGCAGGCAAGGATGGAGCGCTTCTTCTGCAACTCTGGTGTTGATCCTTCGACGCTGTCGAAGGCGGAGGAAGGGGAGGAGTCTCCTGTGAAACAGAGGAATCAGGCATTCACCAGATGCGTTCGGGAGTGCGTG\n",
      ">Elaeis_1007_2\n",
      "GAACTCCTCGAAATCCTAGGGATGCCAGTTCTAAGAGCATGTGGTGAGGCTGAAGCCCTGTGTGCACAGTTAAATAGTGAAGGCCATGTTGATGCTTGCATCACTGCCGACAGTGATGCTTTCCTGTTTGGGGCGAAATGTGTCATAAAGTGCCTTCGCTCCAATTGCAAG\n",
      ">Elaeis_1007_3\n",
      "GACCCATTTGAGTGCTACAACATATCAGATGTTGAAGCTGGTCTTGGTTTGAAGAGAAAACAAATGGTAGCCATTGCTCTTCTGGTCGGTAATGACCATGATTTGCATGGGGTATCTGGGTTTGGGGGTTGATACGGCTGTCCGATTTGTAAAGATGTTTAGTGAGGATGAAATTTTGGCTA\n",
      ">Elaeis_1007_4\n",
      "GGTTATGTGAGGTTGGTAAAGGGGTTTTCCCTTTTTCAGAGGGAAGCATCAGTTTGGCCATGGATCCCCACATGCCTATTTCAAATGAGGTTTCACCGAGTGCAAGATCTCCACACTGCTCACATTGTGGTCACCCAGGCAGCAAGAAAGCTCATCAGAAGACTGCTTGTGAATACTGTATTCTTAATGGTTCTGAAAATTGCATGGAAAAGCCAACAGGGTTCAAATGCTTGTGCTCCACCTGCGA\n"
     ]
    }
   ],
   "source": [
    "%%bash\n",
    "head ../../data/raw/palm_reference_sequences.fasta"
   ]
  },
  {
   "cell_type": "markdown",
   "metadata": {},
   "source": [
    "## Find and extract all target contigs\n",
    "Once you got your reference fasta files ready you are good to start with extracting the contigs of interest. For this purpose we want to create an overview over which contigs represent which reference locus in each sample. At the same time we also have to be somewhat selective and discard potential duplicates that match several loci. Let's check the function that helps you do this:"
   ]
  },
  {
   "cell_type": "code",
   "execution_count": 2,
   "metadata": {},
   "outputs": [
    {
     "name": "stdout",
     "output_type": "stream",
     "text": [
      "usage: secapr find_target_contigs [-h] --contigs CONTIGS --reference REFERENCE\n",
      "                                  --output OUTPUT\n",
      "                                  [--min-coverage MIN_COVERAGE]\n",
      "                                  [--min-identity MIN_IDENTITY]\n",
      "                                  [--keep-duplicates] [--keep-paralogs]\n",
      "                                  [--disable_stats]\n",
      "\n",
      "Extract the contigs that match the reference database\n",
      "\n",
      "optional arguments:\n",
      "  -h, --help            show this help message and exit\n",
      "  --contigs CONTIGS     The directory containing the assembled contigs in\n",
      "                        fasta format.\n",
      "  --reference REFERENCE\n",
      "                        The fasta-file containign the reference sequences\n",
      "                        (probe-order-file).\n",
      "  --output OUTPUT       The directory in which to store the extracted target\n",
      "                        contigs and lastz results.\n",
      "  --min-coverage MIN_COVERAGE\n",
      "                        The minimum percent coverage required for a match\n",
      "                        [default=80].\n",
      "  --min-identity MIN_IDENTITY\n",
      "                        The minimum percent identity required for a match\n",
      "                        [default=80].\n",
      "  --keep-duplicates     Use this flag in case you want to keep those contigs\n",
      "                        that span across multiple exons.\n",
      "  --keep-paralogs       Use this flag in case you want to keep loci with signs\n",
      "                        of paralogy (multiple contig matches). One randomely\n",
      "                        selected contig will be selected for these loci.\n",
      "  --disable_stats       Use this flag if you want to disable generation of\n",
      "                        stats (can be necessary because previous stats files\n",
      "                        can't be found if files are used that were not\n",
      "                        previously processed with SECAPR)\n"
     ]
    }
   ],
   "source": [
    "%%bash\n",
    "source activate secapr_env\n",
    "secapr find_target_contigs -h"
   ]
  },
  {
   "cell_type": "markdown",
   "metadata": {},
   "source": [
    "Note that in this step SECAPR will index all your locus names stored in the reference file, so in all downstream steps your loci will carry a numerical index. The translation table holding the information which index corresponds to which locus name is stored in a text file in the output folder (`reference_fasta_header_info.txt`).\n",
    "\n",
    "The sensitivity of the blast algorithm (LASTZ) can be altered with the flags `--min-coverage` and `--min-identity`. High values mean conservative matching requirements, while low values will return more matches but also possibly non-orthologous sequences.\n",
    "\n",
    "However, being to lenient with the `--min-coverage` and `--min-identity` flags can also lead to an increase of loci that are identified as paralogous, which happens when more than 1 contig matches the reference sequence.\n",
    "\n",
    "You can choose to add the `--keep-duplicates` flag, in order to also keep contigs which span across multiple loci. These will be extracted independently for each contig thhey match and may hence be present in several copies in the FASTA file containing your extracted contigs. If this flag is used a txt file with the duplicate information for each sample is being printed into the samples output folder (`reference_fasta_header_info.txt`). This file contains the contig ID in the first column, followed by the list of reference loci indeces that the contig matched to.\n",
    "\n",
    "The `--keep-paralogs` flag should be used with caution. This will lead to SECAPR keeping loci for which indications of paralogy were found. These loci should generally not be used for phylogenetic inferences, but they may be of interest in some cases. If this flag is used a txt file with the paralog information for each sample is being printed into the samples output folder (`info_paralogous_loci.txt`). This file contains the reference locus index in the first column, followed by a list of contig names that matched to the locus.\n",
    "\n",
    "\n",
    "\n",
    "Now let's run the script.\n",
    "\n",
    "    secapr find_target_contigs --contigs ../../data/processed/contigs/ --reference ../../data/raw/palm_reference_sequences.fasta --output ../../data/processed/target_contigs --keep-duplicates\n",
    "    \n",
    "To get a first idea of the resulting matches, you can have a look at the file `match_table.txt` in the output folder."
   ]
  },
  {
   "cell_type": "code",
   "execution_count": 12,
   "metadata": {},
   "outputs": [
    {
     "data": {
      "text/html": [
       "<div>\n",
       "<style scoped>\n",
       "    .dataframe tbody tr th:only-of-type {\n",
       "        vertical-align: middle;\n",
       "    }\n",
       "\n",
       "    .dataframe tbody tr th {\n",
       "        vertical-align: top;\n",
       "    }\n",
       "\n",
       "    .dataframe thead th {\n",
       "        text-align: right;\n",
       "    }\n",
       "</style>\n",
       "<table border=\"1\" class=\"dataframe\">\n",
       "  <thead>\n",
       "    <tr style=\"text-align: right;\">\n",
       "      <th></th>\n",
       "      <th>1082</th>\n",
       "      <th>1061</th>\n",
       "      <th>1086</th>\n",
       "      <th>1140</th>\n",
       "      <th>1065</th>\n",
       "      <th>1087</th>\n",
       "      <th>1074</th>\n",
       "      <th>1064</th>\n",
       "      <th>1083</th>\n",
       "      <th>1070</th>\n",
       "      <th>1166</th>\n",
       "      <th>1073</th>\n",
       "      <th>1080</th>\n",
       "      <th>1063</th>\n",
       "      <th>1085</th>\n",
       "      <th>1079</th>\n",
       "      <th>1068</th>\n",
       "    </tr>\n",
       "  </thead>\n",
       "  <tbody>\n",
       "    <tr>\n",
       "      <th>0</th>\n",
       "      <td>1</td>\n",
       "      <td>1</td>\n",
       "      <td>1</td>\n",
       "      <td>1</td>\n",
       "      <td>1</td>\n",
       "      <td>1</td>\n",
       "      <td>1</td>\n",
       "      <td>1</td>\n",
       "      <td>1</td>\n",
       "      <td>1</td>\n",
       "      <td>1</td>\n",
       "      <td>1</td>\n",
       "      <td>1</td>\n",
       "      <td>1</td>\n",
       "      <td>1</td>\n",
       "      <td>1</td>\n",
       "      <td>1</td>\n",
       "    </tr>\n",
       "    <tr>\n",
       "      <th>1</th>\n",
       "      <td>1</td>\n",
       "      <td>1</td>\n",
       "      <td>1</td>\n",
       "      <td>1</td>\n",
       "      <td>1</td>\n",
       "      <td>1</td>\n",
       "      <td>1</td>\n",
       "      <td>1</td>\n",
       "      <td>1</td>\n",
       "      <td>1</td>\n",
       "      <td>1</td>\n",
       "      <td>1</td>\n",
       "      <td>1</td>\n",
       "      <td>1</td>\n",
       "      <td>1</td>\n",
       "      <td>1</td>\n",
       "      <td>1</td>\n",
       "    </tr>\n",
       "    <tr>\n",
       "      <th>2</th>\n",
       "      <td>1</td>\n",
       "      <td>1</td>\n",
       "      <td>1</td>\n",
       "      <td>1</td>\n",
       "      <td>1</td>\n",
       "      <td>1</td>\n",
       "      <td>1</td>\n",
       "      <td>1</td>\n",
       "      <td>1</td>\n",
       "      <td>1</td>\n",
       "      <td>1</td>\n",
       "      <td>1</td>\n",
       "      <td>1</td>\n",
       "      <td>1</td>\n",
       "      <td>1</td>\n",
       "      <td>1</td>\n",
       "      <td>1</td>\n",
       "    </tr>\n",
       "    <tr>\n",
       "      <th>3</th>\n",
       "      <td>1</td>\n",
       "      <td>1</td>\n",
       "      <td>1</td>\n",
       "      <td>1</td>\n",
       "      <td>1</td>\n",
       "      <td>1</td>\n",
       "      <td>1</td>\n",
       "      <td>1</td>\n",
       "      <td>1</td>\n",
       "      <td>1</td>\n",
       "      <td>1</td>\n",
       "      <td>1</td>\n",
       "      <td>1</td>\n",
       "      <td>1</td>\n",
       "      <td>1</td>\n",
       "      <td>1</td>\n",
       "      <td>1</td>\n",
       "    </tr>\n",
       "    <tr>\n",
       "      <th>4</th>\n",
       "      <td>1</td>\n",
       "      <td>1</td>\n",
       "      <td>1</td>\n",
       "      <td>1</td>\n",
       "      <td>1</td>\n",
       "      <td>1</td>\n",
       "      <td>1</td>\n",
       "      <td>0</td>\n",
       "      <td>1</td>\n",
       "      <td>1</td>\n",
       "      <td>1</td>\n",
       "      <td>1</td>\n",
       "      <td>1</td>\n",
       "      <td>1</td>\n",
       "      <td>1</td>\n",
       "      <td>1</td>\n",
       "      <td>1</td>\n",
       "    </tr>\n",
       "  </tbody>\n",
       "</table>\n",
       "</div>"
      ],
      "text/plain": [
       "   1082  1061  1086  1140  1065  1087  1074  1064  1083  1070  1166  1073  \\\n",
       "0     1     1     1     1     1     1     1     1     1     1     1     1   \n",
       "1     1     1     1     1     1     1     1     1     1     1     1     1   \n",
       "2     1     1     1     1     1     1     1     1     1     1     1     1   \n",
       "3     1     1     1     1     1     1     1     1     1     1     1     1   \n",
       "4     1     1     1     1     1     1     1     0     1     1     1     1   \n",
       "\n",
       "   1080  1063  1085  1079  1068  \n",
       "0     1     1     1     1     1  \n",
       "1     1     1     1     1     1  \n",
       "2     1     1     1     1     1  \n",
       "3     1     1     1     1     1  \n",
       "4     1     1     1     1     1  "
      ]
     },
     "execution_count": 12,
     "metadata": {},
     "output_type": "execute_result"
    }
   ],
   "source": [
    "import pandas as pd\n",
    "table = pd.read_csv('../../data/processed/target_contigs/match_table.txt', delimiter = '\\t',index_col=0)\n",
    "table.head()"
   ]
  },
  {
   "cell_type": "markdown",
   "metadata": {},
   "source": [
    "Those fields containing a '1' indicate that a unique match was extracted from the contig sequences for the respective exon and sample. If the output reveals a very low harvest of target sequences, you can try to reduce the values for the flags `--min-coverage` and `--min-identity` in order to be more generous in the matching step. If on the other hand your output turns out to capture a lot of non-homologous sequences between the different samples (can be identified after the [alignment step](align_contigs.ipynb)), you may want to turn up the values for these flags in order to be more conservative in your search.\n",
    "\n",
    "The script also prints out summary stats in a textfile in the output folder:"
   ]
  },
  {
   "cell_type": "code",
   "execution_count": 13,
   "metadata": {},
   "outputs": [
    {
     "name": "stdout",
     "output_type": "stream",
     "text": [
      "Total number of samples: 17\n",
      "Total number of targeted exons: 837\n",
      "\n",
      "120 exons are shared by all samples.\n",
      "\n",
      "1082: 556 extracted contigs\n",
      "1061: 545 extracted contigs\n",
      "1086: 516 extracted contigs\n",
      "1140: 469 extracted contigs\n",
      "1065: 544 extracted contigs\n",
      "1087: 562 extracted contigs\n",
      "1074: 531 extracted contigs\n",
      "1064: 543 extracted contigs\n",
      "1083: 534 extracted contigs\n",
      "1070: 539 extracted contigs\n",
      "1166: 544 extracted contigs\n",
      "1073: 529 extracted contigs\n",
      "1080: 531 extracted contigs\n",
      "1063: 525 extracted contigs\n",
      "1085: 512 extracted contigs\n",
      "1079: 550 extracted contigs\n",
      "1068: 563 extracted contigs\n",
      "mean: 534.882353 stdev: 21.605779"
     ]
    }
   ],
   "source": [
    "%%bash\n",
    "cat ../../data/processed/target_contigs/summary_stats.txt"
   ]
  },
  {
   "cell_type": "markdown",
   "metadata": {},
   "source": [
    "Let's plot the matrix for a better overview of our contig data:"
   ]
  },
  {
   "cell_type": "code",
   "execution_count": 10,
   "metadata": {},
   "outputs": [
    {
     "data": {
      "image/png": "[encoded data removed]",
      "text/plain": [
       "<matplotlib.figure.Figure at 0x117cf3b38>"
      ]
     },
     "execution_count": 10,
     "metadata": {},
     "output_type": "execute_result"
    }
   ],
   "source": [
    "import sys\n",
    "sys.path.append(\"../../src\")\n",
    "import plot_contig_data_function as secapr_plot\n",
    "\n",
    "match_table_path = '../../data/processed/target_contigs/match_table.txt'\n",
    "\n",
    "contig_yield = secapr_plot.plot_contig_yield(match_table_path)\n",
    "contig_yield"
   ]
  },
  {
   "cell_type": "markdown",
   "metadata": {},
   "source": [
    "Blue means \"presence\" and white \"absence\" of the respective sequence in the final contig file. SECAPR also prints a separate text file with an overview which exon index coressponds to which locus. It appears that most loci were recovered for most samples. Further  there are gaps in some places for all samples, which could indicate that the bait sequences for that locus are not very suitable for our sample data of the genus _Geonoma_.\n",
    "\n",
    "If you are satisfied with your contig yield you are ready to continue to the [alignment step](align_contigs.ipynb)."
   ]
  },
  {
   "cell_type": "markdown",
   "metadata": {},
   "source": [
    "[Previous page](contig_assembly.ipynb) | [Next page](align_contigs.ipynb)"
   ]
  }
 ],
 "metadata": {
  "kernelspec": {
   "display_name": "Python 3",
   "language": "python",
   "name": "python3"
  },
  "language_info": {
   "codemirror_mode": {
    "name": "ipython",
    "version": 3
   },
   "file_extension": ".py",
   "mimetype": "text/x-python",
   "name": "python",
   "nbconvert_exporter": "python",
   "pygments_lexer": "ipython3",
   "version": "3.6.4"
  }
 },
 "nbformat": 4,
 "nbformat_minor": 2
}
