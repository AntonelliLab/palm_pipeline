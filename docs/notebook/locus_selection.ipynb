{
 "cells": [
  {
   "cell_type": "markdown",
   "metadata": {},
   "source": [
    "# Locus selection\n",
    "Now let's have a closer look at the results of the reference-based assembly. It may very well be that many or most of your target loci did not receive good coverage accross all your samples. One useful thing to do is to make a selection of loci with good coverage and continue to only work with these loci for downstream analyses. `secapr` has a function that helps you to extract loci with good coverage."
   ]
  },
  {
   "cell_type": "code",
   "execution_count": 1,
   "metadata": {
    "collapsed": false
   },
   "outputs": [
    {
     "name": "stdout",
     "output_type": "stream",
     "text": [
      "usage: secapr select_best_cov_loci [-h] --input INPUT --output OUTPUT [--n N]\n",
      "\n",
      "Extract the n loci with the best read-coverage from you reference-based\n",
      "assembly (bam-files)\n",
      "\n",
      "optional arguments:\n",
      "  -h, --help       show this help message and exit\n",
      "  --input INPUT    The folder with the results of the reference based assembly\n",
      "                   or the phasing results.\n",
      "  --output OUTPUT  The output directory where results will be safed.\n",
      "  --n N            The n loci that are best represented accross all samples\n",
      "                   will be extracted.\n"
     ]
    }
   ],
   "source": [
    "%%bash\n",
    "source activate secapr_env\n",
    "secapr select_best_cov_loci -h"
   ]
  },
  {
   "cell_type": "markdown",
   "metadata": {},
   "source": [
    "This function will compile the average read-coverage for each locus and sample and will select the `n` loci with the best coverage accross all samples.\n",
    "You can run this function simply like this:\n",
    "\n",
    "    secapr select_best_cov_loci --input data/processed/remapped_reads --output data/processed/selected_loci --n 30"
   ]
  },
  {
   "cell_type": "markdown",
   "metadata": {},
   "source": [
    "[Previous page](reference_assembly.ipynb) | [Next page](phasing.ipynb)"
   ]
  },
  {
   "cell_type": "code",
   "execution_count": 2,
   "metadata": {
    "collapsed": false
   },
   "outputs": [
    {
     "data": {
      "text/html": [
       "<iframe width=\"900\" height=\"800\" frameborder=\"0\" scrolling=\"no\" src=\"//plot.ly/~tobiashofmann/4.embed\"></iframe>"
      ],
      "text/plain": [
       "<IPython.core.display.HTML object>"
      ]
     },
     "metadata": {},
     "output_type": "display_data"
    }
   ],
   "source": [
    "%%html\n",
    "<iframe width=\"900\" height=\"800\" frameborder=\"0\" scrolling=\"no\" src=\"//plot.ly/~tobiashofmann/4.embed\"></iframe>"
   ]
  },
  {
   "cell_type": "code",
   "execution_count": null,
   "metadata": {
    "collapsed": true
   },
   "outputs": [],
   "source": []
  }
 ],
 "metadata": {
  "kernelspec": {
   "display_name": "Python 3",
   "language": "python",
   "name": "python3"
  },
  "language_info": {
   "codemirror_mode": {
    "name": "ipython",
    "version": 3
   },
   "file_extension": ".py",
   "mimetype": "text/x-python",
   "name": "python",
   "nbconvert_exporter": "python",
   "pygments_lexer": "ipython3",
   "version": "3.6.0"
  }
 },
 "nbformat": 4,
 "nbformat_minor": 2
}
