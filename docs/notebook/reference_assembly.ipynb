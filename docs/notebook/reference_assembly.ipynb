{
 "cells": [
  {
   "cell_type": "markdown",
   "metadata": {},
   "source": [
    "# Reference-based assembly\n",
    "In the previous steps we have gone through cleaning and trimming of the reads, de-novo assembly of contigs and the alignment of those contigs that represent our target sequences. Now we will use those contigs in order to generate new reference libraries and assemble the reads with the hekp of those reference sequences (=reference-based assembly vs. de-novo assembly in the previous steps). Why doing an assembly again and on top of that, why are we assembling a new reference library, you may wonder. There are several reasons for the steps that follow:\n",
    "\n",
    "1. **Sensitivity**: So far we have been using one reference library (the bait sequence set or equivalent) for finding matching sequences across all of our samples. While this may be fine if all your organisms are closely related (e.g. within the same genus), in all other cases you may loose many sequences because they are not similar enough to the reference sequence. Not only does this lead to a lower sequence turn-out but it also biases your results toward those seqeunces most similar to the reference sequence. The soultion to this is to use the sequence data we already assembled in the previous steps to create family-, genus- or even sample-specific reference libraries\n",
    "\n",
    "2. **Intron/Exon structure**: Another reason for creating a new reference library is that you most likely have a set of exon sequences that were used to design the RNA baits for sequence capture. The more variable introns in between are not suitable for designing baits (too variable) but are extremely useful for most phylogenetic analyses (more information). There is a good chance that our contigs will contain parts of the trailing introns or in the best case even span across the complete intron, connecting two exon sequences. This is why we want to use these usually longer and more complete seqeunces for reference-based assembly, rather than the short, clipped exon sequences (**see image below**).\n",
    "\n",
    "3. **Allelic variation**: Remapping the reads in the process of reference-based assembly will make visible the different alleles at a given locus. We will be able to see how many reads support allele a and how many support allele b and will have a better handle on separating sequencing errors from true variation (by assessing coverage). Further looking at the results of reference-based assembly can help distinguishing paralogues from allelic variation (if too many differences between the variants within one sample in one locus, it may likely be a case of paralogy).\n",
    "\n",
    "4. **Coverage**: Reference-based assembly will give you a better and more intuitive overview over read-depth for all of your loci. There are excellent visualization softwares that help interpret the results."
   ]
  },
  {
   "cell_type": "code",
   "execution_count": 26,
   "metadata": {
    "collapsed": false
   },
   "outputs": [
    {
     "name": "stdout",
     "output_type": "stream",
     "text": [
      "Reference-based assembly is more powerful when using contigs as reference\n",
      "rather than the exon sequences from the bait-design step, as it spans\n",
      "accross adjacent intron sequences.\n"
     ]
    },
    {
     "data": {
      "text/html": [
       "\n",
       "        <iframe\n",
       "            width=\"600\"\n",
       "            height=\"480\"\n",
       "            src=\"../../images/exon_vs_contig_based_assembly.pdf\"\n",
       "            frameborder=\"0\"\n",
       "            allowfullscreen\n",
       "        ></iframe>\n",
       "        "
      ],
      "text/plain": [
       "<IPython.lib.display.IFrame at 0x1023901d0>"
      ]
     },
     "execution_count": 26,
     "metadata": {},
     "output_type": "execute_result"
    }
   ],
   "source": [
    "from IPython.display import IFrame\n",
    "print('Reference-based assembly is more powerful when using contigs as reference')\n",
    "print('rather than the exon sequences from the bait-design step, as it spans')\n",
    "print('accross adjacent intron sequences.')\n",
    "IFrame(\"../../images/exon_vs_contig_based_assembly.pdf\", width=600, height=480)"
   ]
  },
  {
   "cell_type": "markdown",
   "metadata": {},
   "source": [
    "## Creating new reference libraries\n",
    "In the best scenario you have enough loci that could be recovered for all taxa. In that case the easiest and most efficient solution is to simply extract the consensus sequences for all loci for each sample separately and use this as the new sample specific reference library. In any other case it is recommendable to split your samples by genus or family and create a genus/family specific reference sequence for each locus. Using the `--reference-type` flag you can decide which of these options you want to choose. The program also gives you the opportunity to provide a user-generated reference library. Since in our example data all samples belong to the same genus, we decide to use the `alignment-consensus` option, which creates a consensus sequence of the alingment of all samples contig sequences for each locus. If you want to generate sample specific reference libraries, you need to first make a selection of loci that could be assembled for all loci (otherwise you may be lacking reference sequences for some samples).\n",
    "\n",
    "    secapr reference_assembly --reads ../../data/processed/cleaned_trimmed_reads --reference_type alignment-consensus --reference ../../data/processed/alignments/contig_alignments --output ../../data/processed/remapped_reads --min_coverage 4\n",
    "    \n",
    "There are many additional flags available in order to control the settings for reference-based assembly step. The default settings are chosen to match the average sequence capture dataset. However, it is recommendable to check the resulting `.bam` files in a viewer (such as e.g. [Tablet](https://ics.hutton.ac.uk/tablet/)) and rerun the reference-based assembly until it results in a decent coverage with few-none mismatched reads and unnecessary gaps. To get an overview over the user-options type:"
   ]
  },
  {
   "cell_type": "code",
   "execution_count": 30,
   "metadata": {
    "collapsed": false
   },
   "outputs": [
    {
     "name": "stdout",
     "output_type": "stream",
     "text": [
      "usage: secapr reference_assembly [-h] --reads READS\n",
      "                                 [--reference_type {alignment-consensus,sample-specific,user-ref-lib}]\n",
      "                                 --reference REFERENCE --output OUTPUT\n",
      "                                 [--keep_duplicates]\n",
      "                                 [--min_coverage MIN_COVERAGE] [--k K] [--w W]\n",
      "                                 [--d D] [--r R] [--c C] [--A A] [--B B]\n",
      "                                 [--O O] [--E E] [--L L] [--U U]\n",
      "\n",
      "Create new reference library and map raw reads against the library (reference-\n",
      "based assembly)\n",
      "\n",
      "optional arguments:\n",
      "  -h, --help            show this help message and exit\n",
      "  --reads READS         Call the folder that contains the trimmed reads,\n",
      "                        organized in a separate subfolder for each sample. The\n",
      "                        name of the subfolder has to start with the sample\n",
      "                        name, delimited with an underscore [_] (default output\n",
      "                        of clean_reads function).\n",
      "  --reference_type {alignment-consensus,sample-specific,user-ref-lib}\n",
      "                        Please choose which type of reference you want to map\n",
      "                        the samples to. \"alignment-consensus\" will create a\n",
      "                        consensus sequence for each alignment file which will\n",
      "                        be used as a reference for all samples. This is\n",
      "                        recommendable when all samples are rather closely\n",
      "                        related to each other. \"sample-specific\" will extract\n",
      "                        the sample specific sequences from an alignment and\n",
      "                        use these as a separate reference for each individual\n",
      "                        sample. \"user-ref-lib\" enables to input one single\n",
      "                        fasta file created by the user which will be used as a\n",
      "                        reference library for all samples.\n",
      "  --reference REFERENCE\n",
      "                        When choosing \"alignment-consensus\" or \"sample-\n",
      "                        specific\" as reference_type, this flag calls the\n",
      "                        folder containing the alignment files for your target\n",
      "                        loci (fasta-format). In case of \"user-ref-lib\" as\n",
      "                        reference_type, this flag calls one single fasta file\n",
      "                        that contains a user-prepared reference library which\n",
      "                        will be applied to all samples.\n",
      "  --output OUTPUT       The output directory where results will be safed.\n",
      "  --keep_duplicates     Use this flag if you do not want to discard all\n",
      "                        duplicate reads with Picard.\n",
      "  --min_coverage MIN_COVERAGE\n",
      "                        Set the minimum read coverage. Only positions that are\n",
      "                        covered by this number of reads will be called in the\n",
      "                        consensus sequence, otherwise the program will add an\n",
      "                        ambiguity at this position.\n",
      "  --k K                 If the part of the read that sufficiently matches the\n",
      "                        reference is shorter than this threshold, it will be\n",
      "                        discarded (minSeedLen).\n",
      "  --w W                 Avoid introducing gaps in read that are longer than\n",
      "                        this threshold.\n",
      "  --d D                 Stop extension when the difference between the best\n",
      "                        and the current extension score is above |i-j|*A+INT,\n",
      "                        where i and j are the current positions of the query\n",
      "                        and reference, respectively, and A is the matching\n",
      "                        score.\n",
      "  --r R                 Trigger re-seeding for a MEM longer than\n",
      "                        minSeedLen*FLOAT.\n",
      "  --c C                 Discard a match if it has more than INT occurence in\n",
      "                        the genome\n",
      "  --A A                 Matching score. Acts as a factor enhancing any match\n",
      "                        (higher value makes it less conservative = allows\n",
      "                        reads that have fewer matches, since every match is\n",
      "                        scored higher).\n",
      "  --B B                 Mismatch penalty. The accepted mismatch rate per read\n",
      "                        on length k is approximately: {.75 * exp[-log(4) *\n",
      "                        B/A]}\n",
      "  --O O                 Gap opening penalty\n",
      "  --E E                 Gap extension penalty\n",
      "  --L L                 Clipping penalty. During extension, the algorithm\n",
      "                        keeps track of the best score reaching the end of\n",
      "                        query. If this score is larger than the best extension\n",
      "                        score minus the clipping penalty, clipping will not be\n",
      "                        applied.\n",
      "  --U U                 Penalty for an unpaired read pair. The lower the\n",
      "                        value, the more unpaired reads will be allowed in the\n",
      "                        mapping.\n"
     ]
    }
   ],
   "source": [
    "%%bash\n",
    "source activate secapr_env\n",
    "secapr reference_assembly -h"
   ]
  },
  {
   "cell_type": "markdown",
   "metadata": {},
   "source": [
    "Once you are satisfied with the results of the reference-based assembly, you can mmove on to the [allele phasing step](./phasing.ipynb). If there are many loci with very low read coverage (which will complicate allele phasing) it is recommendable to go through the process of [locus selection](./locus_selection.ipynb) first."
   ]
  },
  {
   "cell_type": "markdown",
   "metadata": {},
   "source": [
    "[Previous page](align_contigs.ipynb) | [Next page](locus_selection.ipynb)"
   ]
  },
  {
   "cell_type": "code",
   "execution_count": null,
   "metadata": {
    "collapsed": true
   },
   "outputs": [],
   "source": []
  }
 ],
 "metadata": {
  "kernelspec": {
   "display_name": "Python 3",
   "language": "python",
   "name": "python3"
  },
  "language_info": {
   "codemirror_mode": {
    "name": "ipython",
    "version": 3
   },
   "file_extension": ".py",
   "mimetype": "text/x-python",
   "name": "python",
   "nbconvert_exporter": "python",
   "pygments_lexer": "ipython3",
   "version": "3.6.0"
  }
 },
 "nbformat": 4,
 "nbformat_minor": 2
}
