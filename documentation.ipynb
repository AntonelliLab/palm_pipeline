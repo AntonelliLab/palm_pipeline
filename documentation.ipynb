{
 "cells": [
  {
   "cell_type": "markdown",
   "metadata": {},
   "source": [
    "# SeCaPr - Sequence Capture Processor\n",
    "A computational pipeline for processing Illumina sequence capture data"
   ]
  },
  {
   "cell_type": "markdown",
   "metadata": {},
   "source": [
    "## Installation & Setup\n",
    "SeCaPr is available as a conda package on the bioconda channel. This makes installation very simple:"
   ]
  },
  {
   "cell_type": "markdown",
   "metadata": {},
   "source": [
    "#### 1. Install conda\n",
    "\n",
    "If you do not have conda installed, got to [this page](https://conda.io/docs/install/quick.html) and follow the instrucitons for you system. Conda is a software and environment manager, that makes installation of new software and of required dependencies very simple and straightforward.\n",
    "\n",
    "#### 2. Install SeCaPr\n",
    "Now you can simply type the following command and conda will install the SeCaPr pipeline\n",
    "\n",
    "    conda install -c bioconda secapr\n",
    "\n",
    "#### 3. Install the SeCaPr environment (all correct software dependencies)\n",
    "Conda also makes it super easy to install all necessary dependencies. These will be saved as a conda environment, which you can activate or deactivate. Install the environment with this command:\n",
    "\n",
    "    conda create -n secapr_env -c bioconda secapr\n",
    "   \n",
    "#### 4. Activate the environment\n",
    "To activate the newly created environment, type:\n",
    "\n",
    "    source activate secapr_env\n",
    "\n",
    "After you are done using secapr, you can deactivate the environment to switch back to your standard environment with this command:\n",
    "\n",
    "    source deactivate\n",
    "    \n",
    "But let's NOT deactivate it for now!\n",
    "\n",
    "#### 5. Check active environment\n",
    "Check if you are connected to the correct environment (there should eb a star in front of secapr_env in the output of this command):\n",
    "\n",
    "    conda info --envs\n",
    "    \n",
    "## IMPORTANT : whenever you are using this pipeline, make sure the secapr_env is activated"
   ]
  },
  {
   "cell_type": "markdown",
   "metadata": {},
   "source": [
    "## Documentation\n",
    "The documentation is divided into the following steps (click on the links):\n",
    "- ### [Cleaning and adapter trimming](docs/notebook/cleaning_trimming.ipynb)\n",
    "- ### [Contig assembly](docs/notebook/assembly.ipynb)"
   ]
  },
  {
   "cell_type": "code",
   "execution_count": null,
   "metadata": {
    "collapsed": true
   },
   "outputs": [],
   "source": []
  }
 ],
 "metadata": {
  "kernelspec": {
   "display_name": "Python 3",
   "language": "python",
   "name": "python3"
  },
  "language_info": {
   "codemirror_mode": {
    "name": "ipython",
    "version": 3
   },
   "file_extension": ".py",
   "mimetype": "text/x-python",
   "name": "python",
   "nbconvert_exporter": "python",
   "pygments_lexer": "ipython3",
   "version": "3.6.0"
  }
 },
 "nbformat": 4,
 "nbformat_minor": 2
}
