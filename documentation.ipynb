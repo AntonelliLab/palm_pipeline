{
 "cells": [
  {
   "cell_type": "markdown",
   "metadata": {},
   "source": [
    "# SeCaPr - Sequence Capture Processor\n",
    "A computational pipeline for processing Illumina sequence capture data"
   ]
  },
  {
   "cell_type": "markdown",
   "metadata": {},
   "source": [
    "## Installation & Setup\n",
    "SeCaPr is available as a conda package on the bioconda channel. This makes installation very simple:"
   ]
  },
  {
   "cell_type": "markdown",
   "metadata": {},
   "source": [
    "#### 1. Install conda\n",
    "\n",
    "If you do not have conda installed, got to [this page](https://conda.io/docs/install/quick.html) and follow the instrucitons for you system. Conda is a software and environment manager, that makes installation of new software and of required dependencies very simple and straightforward.\n",
    "\n",
    "#### 2. Install SeCaPr\n",
    "Now you can simply type the following command and conda will install the SeCaPr pipeline\n",
    "\n",
    "    conda install -c bioconda secapr\n",
    "\n",
    "#### 3. Install the SeCaPr environment (all correct software dependencies)\n",
    "Conda also makes it super easy to install all necessary dependencies. These will be saved as a conda environment, which you can activate or deactivate. Install the environment with this command:\n",
    "\n",
    "    conda create -n secapr_env -c bioconda secapr\n",
    "   \n",
    "#### 4. Activate the environment\n",
    "To activate the newly created environment, type:\n",
    "\n",
    "    source activate secapr_env\n",
    "\n",
    "After you are done using secapr, you can deactivate the environment to switch back to your standard environment with this command:\n",
    "\n",
    "    source deactivate\n",
    "    \n",
    "But let's NOT deactivate it for now!\n",
    "\n",
    "#### 5. Check active environment\n",
    "Check if you are connected to the correct environment (there should eb a star in front of secapr_env in the output of this command):\n",
    "\n",
    "    conda info --envs\n",
    "    \n",
    "## IMPORTANT!!! --> whenever you are using this pipeline, make sure the secapr_env is activated"
   ]
  },
  {
   "cell_type": "markdown",
   "metadata": {},
   "source": [
    "## Cleaning and trimming of fastq files\n",
    "Your fastq reads that you received from the sequencing facility will most likely contain all raw reads, including low quality reads. Further, most if not all reads will probably contain parts of the Illumina adapter sequences, which are attached on both ends of the read. In order to prepare the reads for further steps, we need to make sure that we properly clean them and that we clip off all remaining adapter contaminations.\n",
    "\n",
    "**Note: Please check: Is secapr_env activated??**\n",
    "\n",
    "The program for cleaning and trimming can be called as follows:"
   ]
  },
  {
   "cell_type": "code",
   "execution_count": 3,
   "metadata": {
    "collapsed": false
   },
   "outputs": [
    {
     "name": "stdout",
     "output_type": "stream",
     "text": [
      "usage: secapr clean_reads [-h] --input INPUT --config CONFIG --output OUTPUT\n",
      "                          [--read_min READ_MIN] [--index {single,double}]\n",
      "\n",
      "Clean and trim raw Illumina read files\n",
      "\n",
      "optional arguments:\n",
      "  -h, --help            show this help message and exit\n",
      "  --input INPUT         The directory containing the unzipped .fastq or .fq\n",
      "                        files (raw read files)\n",
      "  --config CONFIG       A configuration file containing the adapter\n",
      "                        information and the sample names\n",
      "  --output OUTPUT       The output directory where results will be saved\n",
      "  --read_min READ_MIN   Set the minimum read count threshold. Any read file\n",
      "                        containing fewer reads than this minimum threshold\n",
      "                        will not be processed further. Default: 200000\n",
      "  --index {single,double}\n",
      "                        Specify if single- or double-indexed adapters were\n",
      "                        used for the library preparation (essential\n",
      "                        information in order to interpret the control-file\n",
      "                        correctly).\n"
     ]
    }
   ],
   "source": [
    "%%bash\n",
    "secapr clean_reads -h"
   ]
  },
  {
   "cell_type": "markdown",
   "metadata": {
    "collapsed": false
   },
   "source": [
    "Example command:\n",
    "\n",
    "    secapr clean_reads --input data/raw/fastq/ --config data/raw/adapter_info.txt --output data/processed/cleaned_trimmed_reads_test --index single"
   ]
  },
  {
   "cell_type": "markdown",
   "metadata": {},
   "source": [
    "## Testing read quality\n",
    "Now we want to check if the cleaning and trimming was successful. For this purpose there exists a perfect tool called 'fastqc' which returns reports for every fastq file, summarizing many different parameters concerning read quality.\n",
    "\n",
    "**Note: Please check: Is secapr_env activated??**\n",
    "\n",
    " First install the tool:"
   ]
  },
  {
   "cell_type": "markdown",
   "metadata": {},
   "source": [
    "    conda install -c bioconda fastqc"
   ]
  },
  {
   "cell_type": "markdown",
   "metadata": {},
   "source": [
    "Now make file containing a list of all cleaned fastq-files of interest:"
   ]
  },
  {
   "cell_type": "code",
   "execution_count": 23,
   "metadata": {
    "collapsed": false
   },
   "outputs": [
    {
     "name": "stdout",
     "output_type": "stream",
     "text": [
      "data/processed/cleaned_trimmed_reads/1061_clean/1061_clean-READ1.fastq\n",
      "data/processed/cleaned_trimmed_reads/1063_clean/1063_clean-READ1.fastq\n",
      "data/processed/cleaned_trimmed_reads/1064_clean/1064_clean-READ1.fastq\n",
      "data/processed/cleaned_trimmed_reads/1065_clean/1065_clean-READ1.fastq\n",
      "data/processed/cleaned_trimmed_reads/1068_clean/1068_clean-READ1.fastq\n",
      "data/processed/cleaned_trimmed_reads/1070_clean/1070_clean-READ1.fastq\n",
      "data/processed/cleaned_trimmed_reads/1073_clean/1073_clean-READ1.fastq\n",
      "data/processed/cleaned_trimmed_reads/1074_clean/1074_clean-READ1.fastq\n",
      "data/processed/cleaned_trimmed_reads/1079_clean/1079_clean-READ1.fastq\n",
      "data/processed/cleaned_trimmed_reads/1080_clean/1080_clean-READ1.fastq\n",
      "data/processed/cleaned_trimmed_reads/1082_clean/1082_clean-READ1.fastq\n",
      "data/processed/cleaned_trimmed_reads/1083_clean/1083_clean-READ1.fastq\n",
      "data/processed/cleaned_trimmed_reads/1085_clean/1085_clean-READ1.fastq\n",
      "data/processed/cleaned_trimmed_reads/1086_clean/1086_clean-READ1.fastq\n",
      "data/processed/cleaned_trimmed_reads/1087_clean/1087_clean-READ1.fastq\n",
      "data/processed/cleaned_trimmed_reads/1140_clean/1140_clean-READ1.fastq\n",
      "data/processed/cleaned_trimmed_reads/1166_clean/1166_clean-READ1.fastq\n",
      "data/processed/cleaned_trimmed_reads/1061_clean/1061_clean-READ2.fastq\n",
      "data/processed/cleaned_trimmed_reads/1063_clean/1063_clean-READ2.fastq\n",
      "data/processed/cleaned_trimmed_reads/1064_clean/1064_clean-READ2.fastq\n",
      "data/processed/cleaned_trimmed_reads/1065_clean/1065_clean-READ2.fastq\n",
      "data/processed/cleaned_trimmed_reads/1068_clean/1068_clean-READ2.fastq\n",
      "data/processed/cleaned_trimmed_reads/1070_clean/1070_clean-READ2.fastq\n",
      "data/processed/cleaned_trimmed_reads/1073_clean/1073_clean-READ2.fastq\n",
      "data/processed/cleaned_trimmed_reads/1074_clean/1074_clean-READ2.fastq\n",
      "data/processed/cleaned_trimmed_reads/1079_clean/1079_clean-READ2.fastq\n",
      "data/processed/cleaned_trimmed_reads/1080_clean/1080_clean-READ2.fastq\n",
      "data/processed/cleaned_trimmed_reads/1082_clean/1082_clean-READ2.fastq\n",
      "data/processed/cleaned_trimmed_reads/1083_clean/1083_clean-READ2.fastq\n",
      "data/processed/cleaned_trimmed_reads/1085_clean/1085_clean-READ2.fastq\n",
      "data/processed/cleaned_trimmed_reads/1086_clean/1086_clean-READ2.fastq\n",
      "data/processed/cleaned_trimmed_reads/1087_clean/1087_clean-READ2.fastq\n",
      "data/processed/cleaned_trimmed_reads/1140_clean/1140_clean-READ2.fastq\n",
      "data/processed/cleaned_trimmed_reads/1166_clean/1166_clean-READ2.fastq\n"
     ]
    }
   ],
   "source": [
    "%%bash\n",
    "for dir in data/processed/cleaned_trimmed_reads/*/*READ1.fastq; do echo $dir; done > data/processed/fastq_file_list.txt\n",
    "for dir in data/processed/cleaned_trimmed_reads/*/*READ2.fastq; do echo $dir; done >> data/processed/fastq_file_list.txt\n",
    "cat data/processed/fastq_file_list.txt"
   ]
  },
  {
   "cell_type": "code",
   "execution_count": 24,
   "metadata": {
    "collapsed": false
   },
   "outputs": [
    {
     "name": "stdout",
     "output_type": "stream",
     "text": [
      "Analysis complete for 1061_clean-READ1.fastq\n",
      "Analysis complete for 1063_clean-READ1.fastq\n",
      "Analysis complete for 1064_clean-READ1.fastq\n",
      "Analysis complete for 1065_clean-READ1.fastq\n",
      "Analysis complete for 1068_clean-READ1.fastq\n",
      "Analysis complete for 1070_clean-READ1.fastq\n",
      "Analysis complete for 1073_clean-READ1.fastq\n",
      "Analysis complete for 1074_clean-READ1.fastq\n",
      "Analysis complete for 1079_clean-READ1.fastq\n",
      "Analysis complete for 1080_clean-READ1.fastq\n",
      "Analysis complete for 1082_clean-READ1.fastq\n",
      "Analysis complete for 1083_clean-READ1.fastq\n",
      "Analysis complete for 1085_clean-READ1.fastq\n",
      "Analysis complete for 1086_clean-READ1.fastq\n",
      "Analysis complete for 1087_clean-READ1.fastq\n",
      "Analysis complete for 1140_clean-READ1.fastq\n",
      "Analysis complete for 1166_clean-READ1.fastq\n",
      "Analysis complete for 1061_clean-READ2.fastq\n",
      "Analysis complete for 1063_clean-READ2.fastq\n",
      "Analysis complete for 1064_clean-READ2.fastq\n",
      "Analysis complete for 1065_clean-READ2.fastq\n",
      "Analysis complete for 1068_clean-READ2.fastq\n",
      "Analysis complete for 1070_clean-READ2.fastq\n",
      "Analysis complete for 1073_clean-READ2.fastq\n",
      "Analysis complete for 1074_clean-READ2.fastq\n",
      "Analysis complete for 1079_clean-READ2.fastq\n",
      "Analysis complete for 1080_clean-READ2.fastq\n",
      "Analysis complete for 1082_clean-READ2.fastq\n",
      "Analysis complete for 1083_clean-READ2.fastq\n",
      "Analysis complete for 1085_clean-READ2.fastq\n",
      "Analysis complete for 1086_clean-READ2.fastq\n",
      "Analysis complete for 1087_clean-READ2.fastq\n",
      "Analysis complete for 1140_clean-READ2.fastq\n",
      "Analysis complete for 1166_clean-READ2.fastq\n"
     ]
    }
   ],
   "source": [
    "%%bash\n",
    "#conda install -c bioconda fastqc\n",
    "exec 2> /dev/null\n",
    "mkdir data/processed/fastqc_results\n",
    "fastqc -o data/processed/fastqc_results -f fastq $(cat data/processed/fastq_file_list.txt)"
   ]
  },
  {
   "cell_type": "markdown",
   "metadata": {},
   "source": [
    "You should spend some time going through the quality reports and make sure all samples passed all tests. Most likely there will be some warnings or even some failed tests for some samples. In that case go back to the cleaning step and set the parameters differently, in order to brush out the bumps in the tests. Preferably all samples should pass all tests (there may still be some warnings) before you continue to the next step.\n",
    "\n",
    "We provide an R-script which gives a graphical overview over the test results of all samples. This makes it easier to see if all samples passed the tests (rather than having to go open each individual report):"
   ]
  },
  {
   "cell_type": "code",
   "execution_count": 28,
   "metadata": {
    "collapsed": false
   },
   "outputs": [
    {
     "name": "stdout",
     "output_type": "stream",
     "text": [
      "null device \n",
      "          1 \n",
      "null device \n",
      "          1 \n",
      "null device \n",
      "          1 \n",
      "The following sample failed at least one test: 1061 \n",
      "\n",
      "The following sample failed at least one test: 1063 \n",
      "\n",
      "The following sample failed at least one test: 1064 \n",
      "\n",
      "The following sample failed at least one test: 1065 \n",
      "\n",
      "The following sample failed at least one test: 1068 \n",
      "\n",
      "The following sample failed at least one test: 1070 \n",
      "\n",
      "The following sample failed at least one test: 1073 \n",
      "\n",
      "The following sample failed at least one test: 1074 \n",
      "\n",
      "The following sample failed at least one test: 1079 \n",
      "\n",
      "The following sample failed at least one test: 1080 \n",
      "\n",
      "The following sample failed at least one test: 1082 \n",
      "\n",
      "The following sample failed at least one test: 1083 \n",
      "\n",
      "The following sample failed at least one test: 1085 \n",
      "\n",
      "The following sample failed at least one test: 1086 \n",
      "\n",
      "The following sample failed at least one test: 1087 \n",
      "\n",
      "The following sample failed at least one test: 1140 \n",
      "\n",
      "The following sample failed at least one test: 1166 \n",
      "\n"
     ]
    }
   ],
   "source": [
    "%%bash\n",
    "exec 2> /dev/null\n",
    "Rscript src/fastqc_visualization.r -i data/processed/fastqc_results/ -o data/processed/fastqc_results/summary_all_samples.pdf"
   ]
  },
  {
   "cell_type": "markdown",
   "metadata": {},
   "source": [
    "The output is shown below. On the first page you can see the counts of 'fail'(red),'pass'(green) and 'warn'(blue) for each test category. You want to make sure to change the settings until there are no more red columns left. The second page shows the test results on a per sample basis, which helps identifying the problemtic samples"
   ]
  },
  {
   "cell_type": "code",
   "execution_count": 40,
   "metadata": {
    "collapsed": false
   },
   "outputs": [
    {
     "data": {
      "image/png": "[encoded data removed]",
      "text/plain": [
       "<IPython.core.display.Image object>"
      ]
     },
     "metadata": {},
     "output_type": "display_data"
    },
    {
     "data": {
      "image/png": "[encoded data removed]",
      "text/plain": [
       "<IPython.core.display.Image object>"
      ]
     },
     "metadata": {},
     "output_type": "display_data"
    }
   ],
   "source": [
    "from IPython.display import Image, display\n",
    "img1 = Image(\"data/processed/fastqc_results/summary_all_samples1.png\")\n",
    "img2 = Image(\"data/processed/fastqc_results/summary_all_samples2.png\")\n",
    "display(img1,img2)"
   ]
  },
  {
   "cell_type": "code",
   "execution_count": null,
   "metadata": {
    "collapsed": true
   },
   "outputs": [],
   "source": []
  }
 ],
 "metadata": {
  "kernelspec": {
   "display_name": "Python 3",
   "language": "python",
   "name": "python3"
  },
  "language_info": {
   "codemirror_mode": {
    "name": "ipython",
    "version": 3
   },
   "file_extension": ".py",
   "mimetype": "text/x-python",
   "name": "python",
   "nbconvert_exporter": "python",
   "pygments_lexer": "ipython3",
   "version": "3.6.0"
  }
 },
 "nbformat": 4,
 "nbformat_minor": 2
}
