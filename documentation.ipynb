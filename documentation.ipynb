{
 "cells": [
  {
   "cell_type": "markdown",
   "metadata": {},
   "source": [
    "# SeCaPr - Sequence Capture Processor\n",
    "A computational pipeline for processing Illumina sequence capture data"
   ]
  },
  {
   "cell_type": "markdown",
   "metadata": {},
   "source": [
    "## Installation & Setup\n",
    "SeCaPr is available as a conda package on the bioconda channel. This makes installation very simple:"
   ]
  },
  {
   "cell_type": "markdown",
   "metadata": {},
   "source": [
    "#### 1. Install conda\n",
    "\n",
    "If you do not have conda installed, got to [this page](https://conda.io/docs/install/quick.html) and follow the instructions for you system. Conda is a software and environment manager, that makes installation of new software and of required dependencies very simple and straightforward.\n",
    "\n",
    "#### 2. Install the SeCaPr environment (all correct software dependencies)\n",
    "Conda makes it super easy to install secapr with all necessary dependencies. These will be saved as a conda environment, which you can activate or deactivate. Install the environment with this command and name it however you like, here we name it `secapr_env`:\n",
    "\n",
    "    conda create -c bioconda -n secapr_env secapr\n",
    "   \n",
    "#### 3. Activate the environment\n",
    "To activate the newly created environment, type:\n",
    "\n",
    "    source activate secapr_env\n",
    "\n",
    "When the environment is activated, all the necessary software dependencies will be available in the standarad path, e.g. when you type `samtools` the samtools version required for SeCaPr will be executed. After you are done using secapr, you can deactivate the environment to switch back to your standard environment with this command:\n",
    "\n",
    "    source deactivate\n",
    "    \n",
    "But let's NOT deactivate it for now and continue with the tutorial.\n",
    "\n",
    "#### 4. Check active environment\n",
    "Check if you are connected to the correct environment (there should eb a star in front of secapr_env in the output of this command):\n",
    "\n",
    "    conda info --envs\n",
    "\n",
    "<div class=\"alert alert-block alert-info\">IMPORTANT : whenever you are using this pipeline, make sure the secapr_env is activated\n",
    "**(--> simply type `source activate secapr_env` in your command line)**</div>"
   ]
  },
  {
   "cell_type": "markdown",
   "metadata": {},
   "source": [
    "## Documentation\n",
    "The documentation is divided into the following steps (click on the links):\n",
    "- [Cleaning and adapter trimming](docs/notebook/cleaning_trimming.ipynb)\n",
    "- [De-novo contig assembly](docs/notebook/contig_assembly.ipynb)\n",
    "- [Extract target contigs](docs/notebook/extract_contigs.ipynb)\n",
    "- [Align contigs](docs/notebook/align_contigs.ipynb)\n",
    "- [Reference-based assembly](docs/notebook/reference_assembly.ipynb)\n",
    "- [Locus selection](docs/notebook/locus_selection.ipynb)\n",
    "- [Phasing alleles](docs/notebook/phasing.ipynb)"
   ]
  },
  {
   "cell_type": "code",
   "execution_count": null,
   "metadata": {
    "collapsed": true
   },
   "outputs": [],
   "source": []
  }
 ],
 "metadata": {
  "kernelspec": {
   "display_name": "Python 3",
   "language": "python",
   "name": "python3"
  },
  "language_info": {
   "codemirror_mode": {
    "name": "ipython",
    "version": 3
   },
   "file_extension": ".py",
   "mimetype": "text/x-python",
   "name": "python",
   "nbconvert_exporter": "python",
   "pygments_lexer": "ipython3",
   "version": "3.6.0"
  }
 },
 "nbformat": 4,
 "nbformat_minor": 2
}
