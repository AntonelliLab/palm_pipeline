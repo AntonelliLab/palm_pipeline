{
 "cells": [
  {
   "cell_type": "markdown",
   "metadata": {},
   "source": [
    "# SECAPR - From raw Illumina reads to phylogenetic inference\n",
    "  \n",
    "This document contains a detailed workflow for processing Illumina reads from sequence capture libraries, using the scripts from this github repository. The workflow is split into separate steps. Each step uses a different script, which is always listed in _italics_ at the beginning of the respective section. \n",
    "\n",
    "Important Note:  \n",
    "Within this work-process you will be generating big amounts of data (>100GB per 48 samples). Please make sure you have enough free data storage available or check with your cluster-administrator where to perform this workflow.\n",
    "\n",
    "## Installation\n",
    "SECAPR is available as a conda package on the bio_conda channel. It can be installed by running the following command in a UNIX shell terminal:"
   ]
  },
  {
   "cell_type": "code",
   "execution_count": 2,
   "metadata": {
    "collapsed": false
   },
   "outputs": [
    {
     "name": "stdout",
     "output_type": "stream",
     "text": [
      "Fetching package metadata ..."
     ]
    },
    {
     "name": "stderr",
     "output_type": "stream",
     "text": [
      "\n",
      "CondaHTTPError: HTTP None None for url <https://conda.anaconda.org/bio_conda/osx-64/repodata.json>\n",
      "Elapsed: None\n",
      "\n",
      "An HTTP error occurred when trying to retrieve this URL.\n",
      "HTTP errors are often intermittent, and a simple retry will get you on your way.\n",
      "ConnectionError(MaxRetryError(\"HTTPSConnectionPool(host='conda.anaconda.org', port=443): Max retries exceeded with url: /bio_conda/osx-64/repodata.json (Caused by NewConnectionError('<requests.packages.urllib3.connection.VerifiedHTTPSConnection object at 0x10cb3f240>: Failed to establish a new connection: [Errno 8] nodename nor servname provided, or not known',))\",),)\n",
      "\n",
      "\n"
     ]
    }
   ],
   "source": [
    "%%bash\n",
    "conda install -c bio_conda secapr"
   ]
  },
  {
   "cell_type": "code",
   "execution_count": null,
   "metadata": {
    "collapsed": true
   },
   "outputs": [],
   "source": []
  }
 ],
 "metadata": {
  "kernelspec": {
   "display_name": "Python 3",
   "language": "python",
   "name": "python3"
  },
  "language_info": {
   "codemirror_mode": {
    "name": "ipython",
    "version": 3
   },
   "file_extension": ".py",
   "mimetype": "text/x-python",
   "name": "python",
   "nbconvert_exporter": "python",
   "pygments_lexer": "ipython3",
   "version": "3.6.0"
  }
 },
 "nbformat": 4,
 "nbformat_minor": 2
}
